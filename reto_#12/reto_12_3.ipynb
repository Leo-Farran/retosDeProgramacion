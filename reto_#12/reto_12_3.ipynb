{
 "cells": [
  {
   "cell_type": "code",
   "execution_count": 1,
   "metadata": {},
   "outputs": [
    {
     "name": "stdout",
     "output_type": "stream",
     "text": [
      "=======================================================================\n",
      "\n",
      "Esta funcion permite saber si una palabra es un palindromo, es decir,\n",
      "si se lee de la misma forma al derecho que al reves.\n",
      "\n",
      "=======================================================================\n",
      "Palabra elegida: fghfgh__\n",
      "La cadena elegida incluye caracteres especiales y no esta permitida\n",
      "Se comparo la palabra fghfgh__ y su inversa __hgfhgf\n"
     ]
    }
   ],
   "source": [
    "# Reto de programacion #12 - Palindromo\n",
    "# Verificar si una cadena de caracteres se lee igual al derecho o al reves.\n",
    "\n",
    "from tokenize import String\n",
    "\n",
    "\n",
    "print('=======================================================================')\n",
    "print('''\n",
    "Esta funcion permite saber si una palabra es un palindromo, es decir,\n",
    "si se lee de la misma forma al derecho que al reves.\n",
    "''')\n",
    "print('=======================================================================')\n",
    "\n",
    "def palindromo (string):\n",
    "    string2 = string[::-1]\n",
    "    igual = True\n",
    "    if string.isalpha() == True:\n",
    "        string = string.lower()   \n",
    "        if string == string2:\n",
    "            print('Palabra elegida: ' + cadena)\n",
    "            print('La palabra ' + string + ' es un palindromo')\n",
    "        else:\n",
    "            print('Palabra elegida: ' + cadena)\n",
    "            print('La palabra ' + string + ' NO es un palindromo')\n",
    "    else:\n",
    "        print('Palabra elegida: ' + cadena)\n",
    "        print('La cadena elegida incluye caracteres especiales y no esta permitida')\n",
    "    print('Se comparo la palabra ' + string + ' y su inversa ' + string2)\n",
    "\n",
    "cadena = input(\"Ingrese una palabra: \")\n",
    "\n",
    "try:\n",
    "    palindromo(cadena)\n",
    "except Exception as error:\n",
    "    print(type(error))\n",
    "    print(error.args)  \n",
    "\n",
    "\n"
   ]
  }
 ],
 "metadata": {
  "kernelspec": {
   "display_name": "Python 3.8.7 64-bit (system)",
   "language": "python",
   "name": "python3"
  },
  "language_info": {
   "codemirror_mode": {
    "name": "ipython",
    "version": 3
   },
   "file_extension": ".py",
   "mimetype": "text/x-python",
   "name": "python",
   "nbconvert_exporter": "python",
   "pygments_lexer": "ipython3",
   "version": "3.8.7"
  },
  "orig_nbformat": 4,
  "vscode": {
   "interpreter": {
    "hash": "025c3644f65fe6d44f93aed7a142eb381f326019df6cef4fa723779a72991b84"
   }
  }
 },
 "nbformat": 4,
 "nbformat_minor": 2
}
