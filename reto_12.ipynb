{
 "cells": [
  {
   "cell_type": "code",
   "execution_count": 5,
   "metadata": {},
   "outputs": [
    {
     "name": "stdout",
     "output_type": "stream",
     "text": [
      "=======================================================================\n",
      "\n",
      "Esta funcion permite saber si una palabra es un palindromo, es decir,\n",
      "si se lee de la misma forma al derecho que al reves.\n",
      "\n",
      "=======================================================================\n",
      "Palabra elegida: menem\n",
      "La palabra menem es un palindromo\n"
     ]
    },
    {
     "data": {
      "text/plain": [
       "'Se comparo la palabra menem y su inversa menem'"
      ]
     },
     "execution_count": 5,
     "metadata": {},
     "output_type": "execute_result"
    }
   ],
   "source": [
    "# Reto de programacion #12 - Palindromo\n",
    "# Verificar si una cadena de caracteres se lee igual al derecho o al reves.\n",
    "\n",
    "from tokenize import String\n",
    "\n",
    "\n",
    "print('=======================================================================')\n",
    "print('''\n",
    "Esta funcion permite saber si una palabra es un palindromo, es decir,\n",
    "si se lee de la misma forma al derecho que al reves.\n",
    "''')\n",
    "print('=======================================================================')\n",
    "\n",
    "def palindromo (string):\n",
    "    igual = True\n",
    "    if string.isalpha() == True:\n",
    "        string = string.lower()\n",
    "        string2 = string[::-1]\n",
    "        if string == string2:\n",
    "            print('Palabra elegida: ' + string)\n",
    "            print('La palabra ' + cadena + ' es un palindromo')\n",
    "        else:\n",
    "            print('Palabra elegida: ' + string)\n",
    "            print('La palabra ' + cadena + ' NO es un palindromo')\n",
    "    return 'Se comparo la palabra ' + string + ' y su inversa '+ string2\n",
    "\n",
    "cadena = input(\"Ingrese una palabra: \")\n",
    "palindromo(cadena)\n",
    "\n"
   ]
  }
 ],
 "metadata": {
  "kernelspec": {
   "display_name": "Python 3.8.7 64-bit (system)",
   "language": "python",
   "name": "python3"
  },
  "language_info": {
   "codemirror_mode": {
    "name": "ipython",
    "version": 3
   },
   "file_extension": ".py",
   "mimetype": "text/x-python",
   "name": "python",
   "nbconvert_exporter": "python",
   "pygments_lexer": "ipython3",
   "version": "3.8.7"
  },
  "orig_nbformat": 4,
  "vscode": {
   "interpreter": {
    "hash": "025c3644f65fe6d44f93aed7a142eb381f326019df6cef4fa723779a72991b84"
   }
  }
 },
 "nbformat": 4,
 "nbformat_minor": 2
}
