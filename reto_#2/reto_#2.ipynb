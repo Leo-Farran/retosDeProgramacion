{
 "cells": [
  {
   "cell_type": "code",
   "execution_count": 2,
   "metadata": {},
   "outputs": [
    {
     "name": "stdout",
     "output_type": "stream",
     "text": [
      "1 - 2 - 3 - 5 - 8 - 13 - 21 - 34 - 55 - 89 - 144 - 233 - 377 - 610 - 987 - 1597 - 2584 - 4181 - 6765 - 10946 - 17711 - 28657 - 46368 - 75025 - 121393 - 196418 - 317811 - 514229 - 832040 - 1346269 - 2178309 - 3524578 - 5702887 - 9227465 - 14930352 - 24157817 - 39088169 - 63245986 - 102334155 - 165580141 - 267914296 - 433494437 - 701408733 - 1134903170 - 1836311903 - 2971215073 - 4807526976 - 7778742049 - 12586269025 - 20365011074 - "
     ]
    }
   ],
   "source": [
    "\"\"\"\n",
    "Reto #2\n",
    "LA SUCESIÓN DE FIBONACCI\n",
    "Enunciado: Escribe un programa que imprima los 50 primeros números de la sucesión de Fibonacci empezando en 0.\n",
    "La serie Fibonacci se compone por una sucesión de números en la que el siguiente siempre es la suma de los dos anteriores.\n",
    "0, 1, 1, 2, 3, 5, 8, 13...\n",
    "\"\"\"\n",
    "\n",
    "def fib():\n",
    "    a = 0\n",
    "    b = 1\n",
    "    for i in range(0, 50, 1):\n",
    "        c = a + b\n",
    "        a, b = b, c\n",
    "        print(c, end=' - ')\n",
    "        \n",
    "        \n",
    "try:\n",
    "    fib()\n",
    "except Exception as error:\n",
    "    print(type(error))\n",
    "    print(error.args)"
   ]
  }
 ],
 "metadata": {
  "kernelspec": {
   "display_name": "Python 3.8.7 64-bit (system)",
   "language": "python",
   "name": "python3"
  },
  "language_info": {
   "codemirror_mode": {
    "name": "ipython",
    "version": 3
   },
   "file_extension": ".py",
   "mimetype": "text/x-python",
   "name": "python",
   "nbconvert_exporter": "python",
   "pygments_lexer": "ipython3",
   "version": "3.8.7"
  },
  "orig_nbformat": 4,
  "vscode": {
   "interpreter": {
    "hash": "025c3644f65fe6d44f93aed7a142eb381f326019df6cef4fa723779a72991b84"
   }
  }
 },
 "nbformat": 4,
 "nbformat_minor": 2
}
