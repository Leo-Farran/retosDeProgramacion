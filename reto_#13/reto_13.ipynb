{
 "cells": [
  {
   "cell_type": "code",
   "execution_count": 41,
   "metadata": {},
   "outputs": [
    {
     "name": "stdout",
     "output_type": "stream",
     "text": [
      "El resultado factorial de 5 es: 120\n",
      "Los numeros multiplicados son: 5*  4*  3*  2*  1*  "
     ]
    }
   ],
   "source": [
    "# Reto #13\n",
    "# FACTORIAL RECURSIVO\n",
    "# Enunciado: Escribe una función que calcule y retorne el factorial de un número dado de forma recursiva.\n",
    "\n",
    "\n",
    "def factorial(n):\n",
    "    if(n >= 1):\n",
    "        fact = n * factorial(n - 1)\n",
    "        return fact\n",
    "    else:\n",
    "        return 1\n",
    "\n",
    "# Se añade, a modo de practica, una función recursiva para imprimir mensaje.\n",
    "\n",
    "def imprimir(n):\n",
    "    if (n >= 1):\n",
    "        print (n, end='*  ')\n",
    "        imprimir(n-1)\n",
    "\n",
    "    \n",
    "\n",
    "val = 5\n",
    "try:\n",
    "    print('El resultado factorial de ' + str(val) + ' es: ' + str(factorial(val)))\n",
    "    print('Los numeros multiplicados son:', end=' ')\n",
    "    imprimir(val)\n",
    "except Exception as error:\n",
    "    print(type(error))\n",
    "    print(error.args)\n"
   ]
  }
 ],
 "metadata": {
  "kernelspec": {
   "display_name": "Python 3.8.7 64-bit (system)",
   "language": "python",
   "name": "python3"
  },
  "language_info": {
   "codemirror_mode": {
    "name": "ipython",
    "version": 3
   },
   "file_extension": ".py",
   "mimetype": "text/x-python",
   "name": "python",
   "nbconvert_exporter": "python",
   "pygments_lexer": "ipython3",
   "version": "3.8.7"
  },
  "orig_nbformat": 4,
  "vscode": {
   "interpreter": {
    "hash": "025c3644f65fe6d44f93aed7a142eb381f326019df6cef4fa723779a72991b84"
   }
  }
 },
 "nbformat": 4,
 "nbformat_minor": 2
}
